{
 "cells": [
  {
   "cell_type": "code",
   "execution_count": 9,
   "id": "f77ab3ab",
   "metadata": {},
   "outputs": [
    {
     "name": "stdout",
     "output_type": "stream",
     "text": [
      "Hello, I am leo.\n"
     ]
    }
   ],
   "source": [
    "class Animal():\n",
    "    def __init__(self, name):\n",
    "        self.name = name\n",
    "    def greet(self):\n",
    "        print(f'Hello, I am {self.name}.' )\n",
    "a= Animal('leo')\n",
    "a.greet()        "
   ]
  },
  {
   "cell_type": "code",
   "execution_count": 10,
   "id": "78b39bf9",
   "metadata": {},
   "outputs": [],
   "source": [
    "class Dog():\n",
    "    def __init__(self, name):\n",
    "        self.name = name\n",
    "    def greet(self):\n",
    "        print('WangWang.., I am %s. ' % self.name)"
   ]
  },
  {
   "cell_type": "code",
   "execution_count": 11,
   "id": "d07fc362",
   "metadata": {},
   "outputs": [],
   "source": [
    "class Dog(Animal):\n",
    "    def greet(self):\n",
    "        print('WangWang.., I am %s. ' % self.name)"
   ]
  },
  {
   "cell_type": "code",
   "execution_count": 17,
   "id": "728f24d9",
   "metadata": {},
   "outputs": [
    {
     "name": "stdout",
     "output_type": "stream",
     "text": [
      "WangWang.., I am Buddy.\n"
     ]
    },
    {
     "data": {
      "text/plain": [
       "'\\nhello(d)  # 输出：WangWang.., I am Buddy.\\nhello(c)  # 输出：MiaoMiao.., I am Luna\\nhello(a)  # 输出：Hello, I am Unknown.'"
      ]
     },
     "execution_count": 17,
     "metadata": {},
     "output_type": "execute_result"
    }
   ],
   "source": [
    "class Animal():\n",
    "    def __init__(self, name):\n",
    "        self.name = name\n",
    "    def greet(self):\n",
    "        print(f'Hello, I am {self.name}.')\n",
    "\n",
    "class Dog(Animal):\n",
    "    def greet(self):\n",
    "        print(f'WangWang.., I am {self.name}.')\n",
    "\n",
    "class Cat(Animal):\n",
    "    def greet(self):\n",
    "        print(f'MiaoMiao.., I am {self.name}')\n",
    "\n",
    "def hello(test):\n",
    "    test.greet()\n",
    "    \n",
    "d = Dog(\"Buddy\")\n",
    "c = Cat(\"Luna\")\n",
    "a = Animal(\"Unknown\")\n",
    "d.greet()\n",
    "'''\n",
    "hello(d)  # 输出：WangWang.., I am Buddy.\n",
    "hello(c)  # 输出：MiaoMiao.., I am Luna\n",
    "hello(a)  # 输出：Hello, I am Unknown.'''\n"
   ]
  },
  {
   "cell_type": "code",
   "execution_count": 13,
   "id": "bf325679",
   "metadata": {},
   "outputs": [
    {
     "name": "stdout",
     "output_type": "stream",
     "text": [
      "Hello, I am akkk.\n",
      "WangWang.., I am dog. \n"
     ]
    }
   ],
   "source": [
    "animal = Animal('akkk')\n",
    "animal.greet()\n",
    "dog = Dog('dog')\n",
    "dog.greet()"
   ]
  },
  {
   "cell_type": "code",
   "execution_count": 23,
   "id": "90a1a66d",
   "metadata": {},
   "outputs": [
    {
     "name": "stdout",
     "output_type": "stream",
     "text": [
      "1\n",
      "david\n",
      "52\n",
      "sd\n"
     ]
    }
   ],
   "source": [
    "from random import randint, choice\n",
    "# Generate a random number between 1 and 6\n",
    "print(randint(1, 6))\n",
    "\n",
    "players = ['alice', 'david', 'charles', 'michael']\n",
    "# choose a randomly chosen element\n",
    "random_pick = choice(players)\n",
    "print(random_pick)\n",
    "\n",
    "from random import randint , choice\n",
    "print(randint(1,100))\n",
    "players = ['David','ex','xssad','sd']\n",
    "random_pick = choice(players)\n",
    "print(random_pick)"
   ]
  },
  {
   "cell_type": "code",
   "execution_count": 21,
   "id": "ab2a78f9",
   "metadata": {},
   "outputs": [
    {
     "name": "stdout",
     "output_type": "stream",
     "text": [
      "/\n"
     ]
    }
   ],
   "source": [
    "import os\n",
    "print(os.getcwd())"
   ]
  },
  {
   "cell_type": "code",
   "execution_count": 19,
   "id": "5668cfb5",
   "metadata": {},
   "outputs": [],
   "source": [
    "# car.py\n",
    "class Car:\n",
    " \n",
    "    def set_brand(self, brand): \n",
    "        self.brand = brand\n",
    "    \n",
    "   \n",
    "    def set_model(self, model):\n",
    "        self.model = model\n",
    "\n",
    "    def set_year(self, year): \n",
    "        self.year = year\n",
    "\n",
    "    def get_info(self): \n",
    "        print(f\"Brand: {self.brand}, Model: {self.model}, Year: {self.year}\")\n"
   ]
  },
  {
   "cell_type": "code",
   "execution_count": 21,
   "id": "4271b77b",
   "metadata": {},
   "outputs": [
    {
     "name": "stdout",
     "output_type": "stream",
     "text": [
      "Brand: Honda, Model: CRV, Year: 2025\n"
     ]
    }
   ],
   "source": [
    "\n",
    "c=Car()\n",
    "c.set_brand(\"Honda\")\n",
    "c.set_model(\"CRV\")\n",
    "c.set_year(2025)\n",
    "c.get_info()"
   ]
  },
  {
   "cell_type": "code",
   "execution_count": 2,
   "id": "88bd8e18",
   "metadata": {},
   "outputs": [
    {
     "name": "stdout",
     "output_type": "stream",
     "text": [
      "1\n",
      "1\n",
      "2\n",
      "3\n",
      "5\n",
      "8\n",
      "13\n",
      "21\n",
      "34\n",
      "55\n",
      "89\n"
     ]
    }
   ],
   "source": [
    "class Fib():\n",
    "    def __init__(self):\n",
    "        self.a,self.b=0,1\n",
    "    def __iter__(self):\n",
    "        return self\n",
    "    def __next__(self):\n",
    "        self.a, self.b = self.b,self.a+self.b\n",
    "        return self.a\n",
    "fib = Fib()\n",
    "for i in fib:\n",
    "    if i>100:\n",
    "        break\n",
    "    print(i)"
   ]
  },
  {
   "cell_type": "code",
   "execution_count": 8,
   "id": "29030612",
   "metadata": {},
   "outputs": [
    {
     "name": "stdout",
     "output_type": "stream",
     "text": [
      "/Users/davidc/cchcCode\n"
     ]
    }
   ],
   "source": [
    "import os\n",
    "print(os.getcwd())"
   ]
  },
  {
   "cell_type": "code",
   "execution_count": 2,
   "id": "7cf56585",
   "metadata": {},
   "outputs": [
    {
     "name": "stdout",
     "output_type": "stream",
     "text": [
      "Hello World\n"
     ]
    }
   ],
   "source": [
    "a = \"Hello \"\n",
    "b = \"World\"\n",
    "c = a + b\n",
    "print(c)"
   ]
  },
  {
   "cell_type": "code",
   "execution_count": 4,
   "id": "470ebfbc",
   "metadata": {},
   "outputs": [
    {
     "data": {
      "text/plain": [
       "'Ahello'"
      ]
     },
     "execution_count": 4,
     "metadata": {},
     "output_type": "execute_result"
    }
   ],
   "source": [
    "a=\"ahello\"\n",
    "a.capitalize()\n"
   ]
  },
  {
   "cell_type": "code",
   "execution_count": null,
   "id": "7c2c5c55",
   "metadata": {},
   "outputs": [
    {
     "ename": "NameError",
     "evalue": "name 'msg' is not defined",
     "output_type": "error",
     "traceback": [
      "\u001b[31m---------------------------------------------------------------------------\u001b[39m",
      "\u001b[31mNameError\u001b[39m                                 Traceback (most recent call last)",
      "\u001b[36mCell\u001b[39m\u001b[36m \u001b[39m\u001b[32mIn[6]\u001b[39m\u001b[32m, line 8\u001b[39m\n\u001b[32m      2\u001b[39m     greetings = {\n\u001b[32m      3\u001b[39m         \u001b[33m\"\u001b[39m\u001b[33mEnglish\u001b[39m\u001b[33m\"\u001b[39m: \u001b[33m\"\u001b[39m\u001b[33mHello\u001b[39m\u001b[33m\"\u001b[39m,\n\u001b[32m      4\u001b[39m         \u001b[33m\"\u001b[39m\u001b[33mSpanish\u001b[39m\u001b[33m\"\u001b[39m: \u001b[33m\"\u001b[39m\u001b[33mHola\u001b[39m\u001b[33m\"\u001b[39m,\n\u001b[32m      5\u001b[39m         \u001b[33m\"\u001b[39m\u001b[33mGerman\u001b[39m\u001b[33m\"\u001b[39m: \u001b[33m\"\u001b[39m\u001b[33mHallo\u001b[39m\u001b[33m\"\u001b[39m,\n\u001b[32m      6\u001b[39m     }\n\u001b[32m      7\u001b[39m     msg = \u001b[33mf\u001b[39m\u001b[33m\"\u001b[39m\u001b[38;5;132;01m{\u001b[39;00mgreetings[lang]\u001b[38;5;132;01m}\u001b[39;00m\u001b[33m \u001b[39m\u001b[38;5;132;01m{\u001b[39;00mname\u001b[38;5;132;01m}\u001b[39;00m\u001b[33m!\u001b[39m\u001b[33m\"\u001b[39m\n\u001b[32m----> \u001b[39m\u001b[32m8\u001b[39m \u001b[38;5;28mprint\u001b[39m(\u001b[43mmsg\u001b[49m)\n",
      "\u001b[31mNameError\u001b[39m: name 'msg' is not defined"
     ]
    }
   ],
   "source": [
    "def hello(name, lang):\n",
    "    greetings = {\n",
    "        \"English\": \"Hello\",\n",
    "        \"Spanish\": \"Hola\",\n",
    "        \"German\": \"Hallo\",\n",
    "    }\n",
    "    msg = f\"{greetings[lang]} {name}!\"\n",
    "    print(msg)"
   ]
  },
  {
   "cell_type": "code",
   "execution_count": 19,
   "id": "398aad7b",
   "metadata": {},
   "outputs": [
    {
     "name": "stdout",
     "output_type": "stream",
     "text": [
      "['apple', 'banana', 'cherry', 'orange']\n",
      "['apple', 'banana', 'cherry', 'orange', 'mango', 'pineapple', 'papaya']\n",
      "['apple', 'banana', 'cherry', 'orange', 'mango', 'pineapple', 'papaya', 'kiwi', 'orange']\n",
      "['banana', 'cherry', 'orange', 'mango', 'pineapple', 'papaya', 'kiwi', 'orange']\n",
      "banana\n",
      "cherry\n",
      "orange\n",
      "mango\n",
      "pineapple\n",
      "papaya\n",
      "kiwi\n",
      "orange\n",
      "banana\n",
      "cherry\n",
      "orange\n",
      "mango\n",
      "pineapple\n",
      "papaya\n",
      "kiwi\n",
      "orange\n",
      "['banana', 'apple']\n"
     ]
    }
   ],
   "source": [
    "thislist = [\"apple\",\"banana\",\"cherry\"]\n",
    "thislist.append(\"orange\")\n",
    "print(thislist)\n",
    "tropical = [\"mango\",\"pineapple\",\"papaya\"]\n",
    "thislist.extend(tropical)\n",
    "print(thislist)\n",
    "thistuple = (\"kiwi\",\"orange\")\n",
    "thislist.extend(thistuple)\n",
    "print(thislist)\n",
    "del thislist[0]\n",
    "print(thislist)\n",
    "for i in thislist:\n",
    "    print(i)\n",
    "for x in range(len(thislist)):\n",
    "    print(thislist[x])\n",
    "\n",
    "fruits = [\"banana\",\"apple\",\"cherry\",\"kiwi\"]\n",
    "newlist=[]\n",
    "for x in fruits:\n",
    "    if \"a\" in x:\n",
    "        newlist.append(x)\n",
    "print(newlist)"
   ]
  },
  {
   "cell_type": "code",
   "execution_count": 31,
   "id": "d66787d6",
   "metadata": {},
   "outputs": [
    {
     "name": "stdout",
     "output_type": "stream",
     "text": [
      "['apple', 'banana', 'mango']\n",
      "['apple', 'banana', 'cherry', 'kiwi', 'mango']\n",
      "[1002, 98, 31, 21, 3]\n",
      "['apple', 'banana', 'cherry', 'kiwi', 'mango']\n",
      "['apple', 'banana', 'cherry']\n",
      "['apple', 'banana', 'cherry', 'apple', 'banana', 'cherry', 'kiwi', 'mango']\n"
     ]
    }
   ],
   "source": [
    "fruits = [\"apple\",\"banana\",\"cherry\",\"mango\",\"kiwi\"]\n",
    "new=[x for x in fruits if \"a\" in x]\n",
    "print(new)\n",
    "fruits.sort()\n",
    "print(fruits)\n",
    "new1=[1002,98,31,3,21]\n",
    "new1.sort(reverse=1)\n",
    "print(new1)\n",
    "myfruits = fruits.copy()\n",
    "print(myfruits)\n",
    "thislist = [\"apple\",\"banana\",\"cherry\"]\n",
    "mylist = thislist[:]\n",
    "print(mylist)\n",
    "list1=thislist + fruits\n",
    "print(list1)"
   ]
  },
  {
   "cell_type": "code",
   "execution_count": 32,
   "id": "5399b0d0",
   "metadata": {},
   "outputs": [
    {
     "name": "stdout",
     "output_type": "stream",
     "text": [
      "['apple', 'banana', ['cherry', 'mango']]\n"
     ]
    }
   ],
   "source": [
    "fruits = [\"apple\", \"banana\"]\n",
    "fruits.append([\"cherry\", \"mango\"])\n",
    "print(fruits)"
   ]
  },
  {
   "cell_type": "code",
   "execution_count": null,
   "id": "b9122963",
   "metadata": {},
   "outputs": [
    {
     "ename": "TypeError",
     "evalue": "set.pop() takes no arguments (1 given)",
     "output_type": "error",
     "traceback": [
      "\u001b[31m---------------------------------------------------------------------------\u001b[39m",
      "\u001b[31mTypeError\u001b[39m                                 Traceback (most recent call last)",
      "\u001b[36mCell\u001b[39m\u001b[36m \u001b[39m\u001b[32mIn[36]\u001b[39m\u001b[32m, line 2\u001b[39m\n\u001b[32m      1\u001b[39m thisset = {\u001b[33m\"\u001b[39m\u001b[33mapple\u001b[39m\u001b[33m\"\u001b[39m,\u001b[33m\"\u001b[39m\u001b[33mbanana\u001b[39m\u001b[33m\"\u001b[39m,\u001b[33m\"\u001b[39m\u001b[33mcherry\u001b[39m\u001b[33m\"\u001b[39m,\u001b[33m\"\u001b[39m\u001b[33msd\u001b[39m\u001b[33m\"\u001b[39m,\u001b[33m\"\u001b[39m\u001b[33msdff\u001b[39m\u001b[33m\"\u001b[39m}\n\u001b[32m----> \u001b[39m\u001b[32m2\u001b[39m x=\u001b[43mthisset\u001b[49m\u001b[43m.\u001b[49m\u001b[43mpop\u001b[49m\u001b[43m(\u001b[49m\u001b[32;43m2\u001b[39;49m\u001b[43m)\u001b[49m\n\u001b[32m      3\u001b[39m \u001b[38;5;28mprint\u001b[39m(x)\n",
      "\u001b[31mTypeError\u001b[39m: set.pop() takes no arguments (1 given)"
     ]
    }
   ],
   "source": [
    "thisset = {\"apple\",\"banana\",\"cherry\",\"sd\",\"sdff\"}\n",
    "x=thisset.pop()\n",
    "print(x)"
   ]
  },
  {
   "cell_type": "code",
   "execution_count": 37,
   "id": "f1debd59",
   "metadata": {},
   "outputs": [
    {
     "name": "stdout",
     "output_type": "stream",
     "text": [
      "{'brand': 'Ford', 'electric': False, 'year': 1964, 'colors': ['red', 'white', 'blue']}\n"
     ]
    }
   ],
   "source": [
    "thisdict = {\n",
    "  \"brand\": \"Ford\",\n",
    "  \"electric\": False,\n",
    "  \"year\": 1964,\n",
    "  \"colors\": [\"red\", \"white\", \"blue\"]\n",
    "}\n",
    "\n",
    "print(thisdict)"
   ]
  },
  {
   "cell_type": "code",
   "execution_count": 38,
   "id": "e429cc3b",
   "metadata": {},
   "outputs": [
    {
     "name": "stdout",
     "output_type": "stream",
     "text": [
      "brand Ford\n",
      "model Mustang\n",
      "year 1964\n"
     ]
    }
   ],
   "source": [
    "thisdict =\t{\n",
    "  \"brand\": \"Ford\",\n",
    "  \"model\": \"Mustang\",\n",
    "  \"year\": 1964\n",
    "}\n",
    "for x, y in thisdict.items():\n",
    "  print(x, y)\n"
   ]
  },
  {
   "cell_type": "code",
   "execution_count": 39,
   "id": "388e2833",
   "metadata": {},
   "outputs": [
    {
     "name": "stdout",
     "output_type": "stream",
     "text": [
      "{'child1': {'name': 'Emil', 'year': 2004}, 'child2': {'name': 'Tobias', 'year': 2007}, 'child3': {'name': 'Linus', 'year': 2011}}\n"
     ]
    }
   ],
   "source": [
    "myfamily = {\n",
    "  \"child1\" : {\n",
    "    \"name\" : \"Emil\",\n",
    "    \"year\" : 2004\n",
    "  },\n",
    "  \"child2\" : {\n",
    "    \"name\" : \"Tobias\",\n",
    "    \"year\" : 2007\n",
    "  },\n",
    "  \"child3\" : {\n",
    "    \"name\" : \"Linus\",\n",
    "    \"year\" : 2011\n",
    "  }\n",
    "}\n",
    "\n",
    "print(myfamily)\n"
   ]
  },
  {
   "cell_type": "code",
   "execution_count": 40,
   "id": "2817fc8c",
   "metadata": {},
   "outputs": [
    {
     "name": "stdout",
     "output_type": "stream",
     "text": [
      "b is greater than a\n"
     ]
    }
   ],
   "source": [
    "a=200\n",
    "b=300\n",
    "if b>a:\n",
    "    print(\"b is greater than a\")\n",
    "elif a==b:\n",
    "    print(\"a and b are equal\")\n",
    "else:\n",
    "    print(\"a is greater than b\")\n",
    "    "
   ]
  },
  {
   "cell_type": "code",
   "execution_count": 41,
   "id": "69234e51",
   "metadata": {},
   "outputs": [
    {
     "name": "stdout",
     "output_type": "stream",
     "text": [
      "B\n"
     ]
    }
   ],
   "source": [
    "a=2\n",
    "b=330\n",
    "print(\"A\") if a>b else print(\"B\")"
   ]
  },
  {
   "cell_type": "code",
   "execution_count": 44,
   "id": "d4bd9491",
   "metadata": {},
   "outputs": [
    {
     "name": "stdout",
     "output_type": "stream",
     "text": [
      "Monday\n",
      "Today is a weekday\n"
     ]
    }
   ],
   "source": [
    "day = 1\n",
    "match day:\n",
    "    case 1:\n",
    "        print(\"Monday\")\n",
    "    case 2:\n",
    "        print(\"Tuesday\")\n",
    "    case 3:\n",
    "        print(\"Wednesday\")\n",
    "    case 4:\n",
    "        print(\"Thursday\")\n",
    "    case 5:\n",
    "        print(\"Friday\")\n",
    "    case 6:\n",
    "        print(\"Saturday\")\n",
    "    case 7:\n",
    "        print(\"Sunday\")\n",
    "\n",
    "\n",
    "day=4\n",
    "match day:\n",
    "    case 1|2|3|4|5:\n",
    "        print(\"Today is a weekday\")\n",
    "    case 6|7:\n",
    "        print(\"I love weekends\")"
   ]
  },
  {
   "cell_type": "code",
   "execution_count": 50,
   "id": "e6018007",
   "metadata": {},
   "outputs": [
    {
     "name": "stdout",
     "output_type": "stream",
     "text": [
      "1\n",
      "2\n",
      "3\n",
      "4\n",
      "5\n",
      "i is no longer less than 6\n"
     ]
    }
   ],
   "source": [
    "i=1\n",
    "while i<6:\n",
    "    print(i)\n",
    "    i+=1\n",
    "else :\n",
    "    print(\"i is no longer less than 6\")"
   ]
  },
  {
   "cell_type": "code",
   "execution_count": 52,
   "id": "678b57fe",
   "metadata": {},
   "outputs": [
    {
     "name": "stdout",
     "output_type": "stream",
     "text": [
      "hello from function\n"
     ]
    }
   ],
   "source": [
    "def my_function():\n",
    "    print(\"hello from function\")\n",
    "my_function()"
   ]
  },
  {
   "cell_type": "code",
   "execution_count": null,
   "id": "ba430a25",
   "metadata": {},
   "outputs": [],
   "source": []
  }
 ],
 "metadata": {
  "kernelspec": {
   "display_name": "Python 3",
   "language": "python",
   "name": "python3"
  },
  "language_info": {
   "codemirror_mode": {
    "name": "ipython",
    "version": 3
   },
   "file_extension": ".py",
   "mimetype": "text/x-python",
   "name": "python",
   "nbconvert_exporter": "python",
   "pygments_lexer": "ipython3",
   "version": "3.13.5"
  }
 },
 "nbformat": 4,
 "nbformat_minor": 5
}
